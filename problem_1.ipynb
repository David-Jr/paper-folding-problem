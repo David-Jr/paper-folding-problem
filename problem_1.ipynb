{
 "cells": [
  {
   "cell_type": "code",
   "execution_count": 6,
   "metadata": {},
   "outputs": [
    {
     "name": "stdout",
     "output_type": "stream",
     "text": [
      "Thickness of after folding 43: 703687441.77664 meters\n"
     ]
    }
   ],
   "source": [
    "THICKNESS = 0.00008 # Thickness of paper in meters\n",
    "TIMES_FOLDED = 43 # Number of times the paper will be folded\n",
    "folded_thickness = (2**TIMES_FOLDED) * THICKNESS # Formula for calculating thickness when folded\n",
    "\n",
    "print(\"Thickness of after folding {}: {} meters\".format(TIMES_FOLDED, folded_thickness))\n"
   ]
  }
 ],
 "metadata": {
  "kernelspec": {
   "display_name": "Python 3",
   "language": "python",
   "name": "python3"
  },
  "language_info": {
   "codemirror_mode": {
    "name": "ipython",
    "version": 3
   },
   "file_extension": ".py",
   "mimetype": "text/x-python",
   "name": "python",
   "nbconvert_exporter": "python",
   "pygments_lexer": "ipython3",
   "version": "3.7.9"
  }
 },
 "nbformat": 4,
 "nbformat_minor": 2
}

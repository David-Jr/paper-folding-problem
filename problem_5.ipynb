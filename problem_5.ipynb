{
 "cells": [
  {
   "cell_type": "markdown",
   "metadata": {},
   "source": [
    "### Problem 5\n",
    "- Saving the fold values to a list"
   ]
  },
  {
   "cell_type": "code",
   "execution_count": 3,
   "metadata": {},
   "outputs": [],
   "source": [
    "# Converting to kilometers and displaying with two decimal places\n",
    "def convert_to_kilometers(meters):\n",
    "    print(\"Thickness: {: .2f} kilometers\".format(folded_thickness / 1000))\n",
    "\n",
    "def calculate_folded_thickness(thickness: float, times_folded: int):\n",
    "    return thickness * (2 ** times_folded)\n"
   ]
  },
  {
   "cell_type": "code",
   "execution_count": 4,
   "metadata": {},
   "outputs": [
    {
     "name": "stdout",
     "output_type": "stream",
     "text": [
      "44\n"
     ]
    }
   ],
   "source": [
    "THICKNESS = 0.00008 # Thickness of paper in meters\n",
    "TIMES_FOLDED = 43 # Number of times the paper will be folded\n",
    "\n",
    "fold_values: list = [THICKNESS]\n",
    "\n",
    "for i in range(TIMES_FOLDED):\n",
    "    fold_values.append(calculate_folded_thickness(THICKNESS, TIMES_FOLDED))\n",
    "\n",
    "print(len(fold_values))"
   ]
  }
 ],
 "metadata": {
  "kernelspec": {
   "display_name": "Python 3",
   "language": "python",
   "name": "python3"
  },
  "language_info": {
   "codemirror_mode": {
    "name": "ipython",
    "version": 3
   },
   "file_extension": ".py",
   "mimetype": "text/x-python",
   "name": "python",
   "nbconvert_exporter": "python",
   "pygments_lexer": "ipython3",
   "version": "3.7.9"
  }
 },
 "nbformat": 4,
 "nbformat_minor": 2
}

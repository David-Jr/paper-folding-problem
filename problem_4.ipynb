{
 "cells": [
  {
   "cell_type": "markdown",
   "metadata": {},
   "source": [
    "### Problem 4\n",
    "- Comparing the execution time of the previous the previous solutions\n",
    "- Using the time module"
   ]
  },
  {
   "cell_type": "code",
   "execution_count": 16,
   "metadata": {},
   "outputs": [],
   "source": [
    "import time # Importing time module\n",
    "\n",
    "# Converting to kilometers and displaying with two decimal places\n",
    "def convert_to_kilometers(meters):\n",
    "    print(\"Thickness: {: .2f} kilometers\".format(folded_thickness / 1000))"
   ]
  },
  {
   "cell_type": "markdown",
   "metadata": {},
   "source": [
    "##### **Solution 1:** Using the exponentiation operator"
   ]
  },
  {
   "cell_type": "code",
   "execution_count": 17,
   "metadata": {},
   "outputs": [
    {
     "name": "stdout",
     "output_type": "stream",
     "text": [
      "Thickness:  703687.44 kilometers\n"
     ]
    }
   ],
   "source": [
    "start1 = time.time()\n",
    "\n",
    "THICKNESS = 0.00008 # Thickness of paper in meters\n",
    "TIMES_FOLDED = 43 # Number of times the paper will be folded\n",
    "folded_thickness = (2**TIMES_FOLDED) * THICKNESS # Formula for calculating thickness when folded\n",
    "\n",
    "convert_to_kilometers(folded_thickness)\n",
    "\n",
    "elapsed_time1 = time.time() - start1"
   ]
  },
  {
   "cell_type": "markdown",
   "metadata": {},
   "source": [
    "##### **Solution 2:** Using a for loop"
   ]
  },
  {
   "cell_type": "code",
   "execution_count": 18,
   "metadata": {},
   "outputs": [
    {
     "name": "stdout",
     "output_type": "stream",
     "text": [
      "Thickness:  703687.44 kilometers\n"
     ]
    }
   ],
   "source": [
    "\n",
    "start2 = time.time()\n",
    "\n",
    "THICKNESS = 0.00008 # Thickness of paper in meters\n",
    "TIMES_FOLDED = 43 # Number of times the paper will be folded\n",
    "aux = 1 # Auxiliary variable to store the result of the exponentiation\n",
    "\n",
    "for i in range(TIMES_FOLDED):\n",
    "    aux *= 2\n",
    "\n",
    "folded_thickness = THICKNESS * aux\n",
    "convert_to_kilometers(folded_thickness)\n",
    "elapsed_time2 = time.time() - start2"
   ]
  },
  {
   "cell_type": "markdown",
   "metadata": {},
   "source": [
    "##### Displaying the results"
   ]
  },
  {
   "cell_type": "code",
   "execution_count": 19,
   "metadata": {},
   "outputs": [
    {
     "name": "stdout",
     "output_type": "stream",
     "text": [
      "==EXECUTION TIME==\n",
      "Using the exponential operator : 0.0[s]\n",
      "Using the for loop : 0.0009968280792236328[s]\n",
      "Are loops faster?  True\n"
     ]
    }
   ],
   "source": [
    "print(\"==EXECUTION TIME==\")\n",
    "\n",
    "print(\"Using the exponential operator : {}[s]\".format(elapsed_time1))\n",
    "print(\"Using the for loop : {}[s]\".format(elapsed_time2))\n",
    "\n",
    "print(\"Are loops faster? \", elapsed_time2 > elapsed_time1)"
   ]
  }
 ],
 "metadata": {
  "kernelspec": {
   "display_name": "Python 3",
   "language": "python",
   "name": "python3"
  },
  "language_info": {
   "codemirror_mode": {
    "name": "ipython",
    "version": 3
   },
   "file_extension": ".py",
   "mimetype": "text/x-python",
   "name": "python",
   "nbconvert_exporter": "python",
   "pygments_lexer": "ipython3",
   "version": "3.7.9"
  }
 },
 "nbformat": 4,
 "nbformat_minor": 2
}

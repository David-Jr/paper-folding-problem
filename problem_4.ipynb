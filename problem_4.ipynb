{
 "cells": [
  {
   "cell_type": "markdown",
   "metadata": {},
   "source": [
    "### Problem 4\n",
    "- Comparing the execution time of the previous the previous solutions\n",
    "- Using the time module"
   ]
  },
  {
   "cell_type": "markdown",
   "metadata": {},
   "source": [
    "##### **Solution 1:** Using the exponentiation operator"
   ]
  },
  {
   "cell_type": "code",
   "execution_count": 2,
   "metadata": {},
   "outputs": [
    {
     "data": {
      "text/plain": [
       "'Thickness:  703687.44 kilometers'"
      ]
     },
     "execution_count": 2,
     "metadata": {},
     "output_type": "execute_result"
    }
   ],
   "source": [
    "import time\n",
    "\n",
    "start = time.time()\n",
    "\n",
    "THICKNESS = 0.00008 # Thickness of paper in meters\n",
    "TIMES_FOLDED = 43 # Number of times the paper will be folded\n",
    "folded_thickness = (2**TIMES_FOLDED) * THICKNESS # Formula for calculating thickness when folded\n",
    "\n",
    "# Converting to kilometers and displaying with two decimal places\n",
    "def convert_to_kilometers(meters):\n",
    "    return \"Thickness: {: .2f} kilometers\".format(folded_thickness / 1000)\n",
    "\n",
    "convert_to_kilometers(folded_thickness)\n",
    "\n",
    "elapsed_time = time.time() - start\n",
    "print(\"time : {}[s]\".format(elapsed_time))"
   ]
  },
  {
   "cell_type": "markdown",
   "metadata": {},
   "source": [
    "##### **Solution 2:** Using a for loop"
   ]
  },
  {
   "cell_type": "code",
   "execution_count": null,
   "metadata": {},
   "outputs": [],
   "source": [
    "import time\n",
    "\n",
    "start = time.time()\n",
    "\n",
    "THICKNESS = 0.00008 # Thickness of paper in meters\n",
    "TIMES_FOLDED = 43 # Number of times the paper will be folded\n",
    "aux = 1 # Auxiliary variable to store the result of the exponentiation\n",
    "\n",
    "for i in range(TIMES_FOLDED):\n",
    "    aux *= 2\n",
    "\n",
    "folded_thickness = THICKNESS * aux"
   ]
  }
 ],
 "metadata": {
  "kernelspec": {
   "display_name": "Python 3",
   "language": "python",
   "name": "python3"
  },
  "language_info": {
   "codemirror_mode": {
    "name": "ipython",
    "version": 3
   },
   "file_extension": ".py",
   "mimetype": "text/x-python",
   "name": "python",
   "nbconvert_exporter": "python",
   "pygments_lexer": "ipython3",
   "version": "3.7.9"
  }
 },
 "nbformat": 4,
 "nbformat_minor": 2
}

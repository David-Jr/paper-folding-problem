{
 "cells": [
  {
   "cell_type": "markdown",
   "metadata": {},
   "source": [
    "### Problem 2\n",
    "- Converting from meters to kilometers \n",
    "- Specifing the number of decimal places"
   ]
  },
  {
   "cell_type": "code",
   "execution_count": null,
   "metadata": {},
   "outputs": [],
   "source": [
    "THICKNESS = 0.00008 # Thickness of paper in meters\n",
    "TIMES_FOLDED = 43 # Number of times the paper will be folded\n",
    "folded_thickness = (2**TIMES_FOLDED) * THICKNESS # Formula for calculating thickness when folded\n"
   ]
  },
  {
   "cell_type": "code",
   "execution_count": null,
   "metadata": {},
   "outputs": [],
   "source": [
    "# Converting to kilometers and displaying with two decimal places\n",
    "def convert_to_kilometers(meters):\n",
    "    return \"Thickness: {: .2f} kilometers\".format(folded_thickness / 1000)\n",
    "\n",
    "convert_to_kilometers(folded_thickness)"
   ]
  }
 ],
 "metadata": {
  "kernelspec": {
   "display_name": "Python 3",
   "language": "python",
   "name": "python3"
  },
  "language_info": {
   "codemirror_mode": {
    "name": "ipython",
    "version": 3
   },
   "file_extension": ".py",
   "mimetype": "text/x-python",
   "name": "python",
   "nbconvert_exporter": "python",
   "pygments_lexer": "ipython3",
   "version": "3.7.9"
  }
 },
 "nbformat": 4,
 "nbformat_minor": 2
}
